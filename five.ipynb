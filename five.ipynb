{
 "cells": [
  {
   "cell_type": "raw",
   "id": "943664e7",
   "metadata": {},
   "source": [
    "看看np.dot与np.matmul的区别\n",
    "1.都是矩阵乘法\n",
    "2.np.matmul,禁止矩阵与标量的乘法\n",
    "3.np.matmul，在矢量乘矢量的内积运算中，np.matmul与dot没有区别\n",
    "4.np.matmul，多维的矩阵，将钱n-2维视为后2维的元素后，进行乘法操作"
   ]
  },
  {
   "cell_type": "markdown",
   "id": "0f4f7fdb",
   "metadata": {},
   "source": [
    "1.矢量内积无区别，结果是标量"
   ]
  },
  {
   "cell_type": "code",
   "execution_count": 1,
   "id": "270cb9d8",
   "metadata": {},
   "outputs": [],
   "source": [
    "import numpy as np"
   ]
  },
  {
   "cell_type": "code",
   "execution_count": 2,
   "id": "ffa9d3d6",
   "metadata": {},
   "outputs": [
    {
     "name": "stdout",
     "output_type": "stream",
     "text": [
      "14\n",
      "14\n",
      "[1 4 9]\n"
     ]
    }
   ],
   "source": [
    "t1 = np. array([1,2,3])\n",
    "t2 = np. array([1,2,3])\n",
    "print (np. dot (t1,t2))\n",
    "print (np. matmul (t1, t2))\n",
    "print(t1*t2)#元素】1乘积"
   ]
  },
  {
   "cell_type": "markdown",
   "id": "98e6b197-6e75-45c1-afbe-97aa4c20cacc",
   "metadata": {},
   "source": [
    "2.一维度与二维矩阵的乘法"
   ]
  },
  {
   "cell_type": "code",
   "execution_count": 6,
   "id": "681efd33",
   "metadata": {},
   "outputs": [],
   "source": [
    "a = np. array([1, 2, 3])\n",
    "b = np.array([[1,1,1],\n",
    "            [2,2,2],\n",
    "            [3,3,3]])\n"
   ]
  },
  {
   "cell_type": "code",
   "execution_count": 7,
   "id": "9a7358d7",
   "metadata": {},
   "outputs": [
    {
     "data": {
      "text/plain": [
       "array([14, 14, 14])"
      ]
     },
     "execution_count": 7,
     "metadata": {},
     "output_type": "execute_result"
    }
   ],
   "source": [
    "np.dot(a,b)"
   ]
  },
  {
   "cell_type": "code",
   "execution_count": 8,
   "id": "7533110b",
   "metadata": {},
   "outputs": [
    {
     "data": {
      "text/plain": [
       "array([14, 14, 14])"
      ]
     },
     "execution_count": 8,
     "metadata": {},
     "output_type": "execute_result"
    }
   ],
   "source": [
    "np.matmul(a,b)"
   ]
  },
  {
   "cell_type": "code",
   "execution_count": 9,
   "id": "2db267a6",
   "metadata": {},
   "outputs": [
    {
     "data": {
      "text/plain": [
       "array([[1, 2, 3],\n",
       "       [2, 4, 6],\n",
       "       [3, 6, 9]])"
      ]
     },
     "execution_count": 9,
     "metadata": {},
     "output_type": "execute_result"
    }
   ],
   "source": [
    "a*b"
   ]
  },
  {
   "cell_type": "markdown",
   "id": "cca5c17a",
   "metadata": {},
   "source": [
    "多维矩阵乘积的比较"
   ]
  },
  {
   "cell_type": "code",
   "execution_count": 10,
   "id": "45bab2a3",
   "metadata": {},
   "outputs": [],
   "source": [
    "m_4_4 = np.array([\n",
    "                    [1,2,3,4],\n",
    "                    [3,2,1,4],\n",
    "                    [5,4,6,7],\n",
    "                    [11,12,13, 14]\n",
    "])\n",
    "m_3_4_2 = np.array([\n",
    "                        [[2,3],\n",
    "                        [11,9],\n",
    "                        [32,21],\n",
    "                        [28,17]],\n",
    "    \n",
    "                        [[2,3],\n",
    "                        [1,9],\n",
    "                        [3,21],\n",
    "                        [28,7]],\n",
    "\n",
    "                        [[2,3],\n",
    "                        [1,9],\n",
    "                        [3,21],\n",
    "                        [28,7]]\n",
    "])"
   ]
  },
  {
   "cell_type": "code",
   "execution_count": 11,
   "id": "3e3d8a52",
   "metadata": {},
   "outputs": [
    {
     "name": "stdout",
     "output_type": "stream",
     "text": [
      "(4, 4)\n",
      "(3, 4, 2)\n"
     ]
    }
   ],
   "source": [
    "print(m_4_4.shape)\n",
    "print(m_3_4_2.shape)"
   ]
  },
  {
   "cell_type": "markdown",
   "id": "0d7bf3f8",
   "metadata": {},
   "source": [
    "# np.dot定义："
   ]
  },
  {
   "cell_type": "markdown",
   "id": "b11ba5af",
   "metadata": {},
   "source": [
    "dot(a, b)[i,j,k,m]= sum(a[i,j,:]* b[k,:,m])\n",
    "import numpy as np\n",
    "import scipy 科学计算工具\n",
    "import pandas as pd 大杀器\n",
    "import sklearn 本课程前两周重点\n",
    "import keras.backend as K\n",
    "import tensorflow as tf"
   ]
  },
  {
   "cell_type": "code",
   "execution_count": 12,
   "id": "22a7c9ed",
   "metadata": {},
   "outputs": [],
   "source": [
    "import sklearn"
   ]
  },
  {
   "cell_type": "code",
   "execution_count": 13,
   "id": "06855296",
   "metadata": {},
   "outputs": [],
   "source": [
    "from sklearn import datasets\n",
    "from sklearn.metrics import auc\n",
    "from sklearn.model_selection import train_test_split\n",
    "from sklearn.model_selection import cross_val_score\n",
    "from sklearn.linear_model import LinearRegression\n",
    "from sklearn.linear_model import Lasso"
   ]
  },
  {
   "cell_type": "markdown",
   "id": "d2fd0e88",
   "metadata": {},
   "source": [
    "# 3.安装Tensorflow 与Keras"
   ]
  },
  {
   "cell_type": "code",
   "execution_count": 14,
   "id": "b6359448",
   "metadata": {},
   "outputs": [],
   "source": [
    "import tensorflow as tf"
   ]
  },
  {
   "cell_type": "code",
   "execution_count": null,
   "id": "2de05733",
   "metadata": {},
   "outputs": [],
   "source": []
  },
  {
   "cell_type": "code",
   "execution_count": null,
   "id": "825bdfb0-5130-4165-a51a-cc45924b4f67",
   "metadata": {},
   "outputs": [],
   "source": []
  }
 ],
 "metadata": {
  "kernelspec": {
   "display_name": "py39",
   "language": "python",
   "name": "py39"
  },
  "language_info": {
   "codemirror_mode": {
    "name": "ipython",
    "version": 3
   },
   "file_extension": ".py",
   "mimetype": "text/x-python",
   "name": "python",
   "nbconvert_exporter": "python",
   "pygments_lexer": "ipython3",
   "version": "3.9.18"
  }
 },
 "nbformat": 4,
 "nbformat_minor": 5
}
